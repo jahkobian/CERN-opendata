{
 "cells": [
  {
   "cell_type": "markdown",
   "metadata": {},
   "source": [
    "# Creating a mass plot from CERN OpenData\n",
    "\n",
    "In this example, we'll import some detector data and make a plot of the masses of the particles detected.\n",
    "\n",
    "To begin, click the \"play\" icon or press shift+ENTER to execute each cell."
   ]
  },
  {
   "cell_type": "code",
   "execution_count": 1,
   "metadata": {
    "collapsed": false
   },
   "outputs": [
    {
     "name": "stderr",
     "output_type": "stream",
     "text": [
      "/home/main/anaconda2/envs/python3/lib/python3.5/site-packages/matplotlib/font_manager.py:273: UserWarning: Matplotlib is building the font cache using fc-list. This may take a moment.\n",
      "  warnings.warn('Matplotlib is building the font cache using fc-list. This may take a moment.')\n",
      "/home/main/anaconda2/envs/python3/lib/python3.5/site-packages/matplotlib/font_manager.py:273: UserWarning: Matplotlib is building the font cache using fc-list. This may take a moment.\n",
      "  warnings.warn('Matplotlib is building the font cache using fc-list. This may take a moment.')\n"
     ]
    }
   ],
   "source": [
    "# First, we'll \"import\" the software packages needed.\n",
    "import pandas as pd\n",
    "import numpy as np\n",
    "%matplotlib inline\n",
    "import matplotlib as mpl\n",
    "import matplotlib.pyplot as plt\n",
    "inline_rc = dict(mpl.rcParams)\n",
    "\n",
    "# Starting a line with a hashtag tells the program not to read the line.\n",
    "# That way we can write \"comments\" to humans trying to figure out what the code does.\n",
    "# Blank lines don't do anything either, but they can make the code easier to read."
   ]
  },
  {
   "cell_type": "markdown",
   "metadata": {},
   "source": [
    "## Importing a data set\n",
    "Now let's choose some data to plot. In this example we'll pull data from CERN's CMS detector and make a histogram of invariant mass. You can find more at CERN OpenData\n",
    "\n",
    "This next cell will take a little while to run since it's grabbing a pretty big data set. This one contains 100,000 collision events. The cell label will look like \"In [\\*]\" while it's still thinking and \"In [2]\" when it's finished."
   ]
  },
  {
   "cell_type": "code",
   "execution_count": 2,
   "metadata": {
    "collapsed": false
   },
   "outputs": [],
   "source": [
    "# Whenever you type \"something =\" it defines a new variable, \"something\", \n",
    "# and sets it equal to whatever follows the equals sign. That could be a number, \n",
    "# another variable, or in this case an entire table of numbers.\n",
    "data = pd.read_csv('http://opendata.cern.ch/record/303/files/dimuon.csv')\n",
    "\n",
    "# Analyze dielectron data instead by referencing this URL:\n",
    "# http://opendata.cern.ch/record/304/files/dielectron.csv"
   ]
  },
  {
   "cell_type": "markdown",
   "metadata": {},
   "source": [
    "We can view the first few rows of the file we just imported."
   ]
  },
  {
   "cell_type": "code",
   "execution_count": 5,
   "metadata": {
    "collapsed": false
   },
   "outputs": [
    {
     "data": {
      "text/html": [
       "<div>\n",
       "<table border=\"1\" class=\"dataframe\">\n",
       "  <thead>\n",
       "    <tr style=\"text-align: right;\">\n",
       "      <th></th>\n",
       "      <th>Type</th>\n",
       "      <th>Run</th>\n",
       "      <th>Event</th>\n",
       "      <th>E1</th>\n",
       "      <th>px1</th>\n",
       "      <th>py1</th>\n",
       "      <th>pz1</th>\n",
       "      <th>pt1</th>\n",
       "      <th>eta1</th>\n",
       "      <th>phi1</th>\n",
       "      <th>Q1</th>\n",
       "      <th>E2</th>\n",
       "      <th>px2</th>\n",
       "      <th>py2</th>\n",
       "      <th>pz2</th>\n",
       "      <th>pt2</th>\n",
       "      <th>eta2</th>\n",
       "      <th>phi2</th>\n",
       "      <th>Q2</th>\n",
       "      <th>M</th>\n",
       "    </tr>\n",
       "  </thead>\n",
       "  <tbody>\n",
       "    <tr>\n",
       "      <th>0</th>\n",
       "      <td>GT</td>\n",
       "      <td>146511</td>\n",
       "      <td>25343052</td>\n",
       "      <td>7.33390</td>\n",
       "      <td>2.060420</td>\n",
       "      <td>5.88580</td>\n",
       "      <td>-3.85836</td>\n",
       "      <td>6.23602</td>\n",
       "      <td>-0.584812</td>\n",
       "      <td>1.234060</td>\n",
       "      <td>-1</td>\n",
       "      <td>5.20755</td>\n",
       "      <td>-1.550160</td>\n",
       "      <td>-1.819760</td>\n",
       "      <td>4.62525</td>\n",
       "      <td>2.390500</td>\n",
       "      <td>1.414110</td>\n",
       "      <td>-2.276360</td>\n",
       "      <td>1</td>\n",
       "      <td>11.82820</td>\n",
       "    </tr>\n",
       "    <tr>\n",
       "      <th>1</th>\n",
       "      <td>GG</td>\n",
       "      <td>146511</td>\n",
       "      <td>25341481</td>\n",
       "      <td>18.46720</td>\n",
       "      <td>8.033950</td>\n",
       "      <td>-3.94072</td>\n",
       "      <td>-16.15410</td>\n",
       "      <td>8.94839</td>\n",
       "      <td>-1.352990</td>\n",
       "      <td>-0.456026</td>\n",
       "      <td>-1</td>\n",
       "      <td>10.72950</td>\n",
       "      <td>6.294760</td>\n",
       "      <td>-2.524410</td>\n",
       "      <td>-8.31349</td>\n",
       "      <td>6.782080</td>\n",
       "      <td>-1.032390</td>\n",
       "      <td>-0.381397</td>\n",
       "      <td>1</td>\n",
       "      <td>2.58406</td>\n",
       "    </tr>\n",
       "    <tr>\n",
       "      <th>2</th>\n",
       "      <td>GG</td>\n",
       "      <td>146511</td>\n",
       "      <td>25390065</td>\n",
       "      <td>7.70222</td>\n",
       "      <td>-0.248771</td>\n",
       "      <td>4.08338</td>\n",
       "      <td>6.52511</td>\n",
       "      <td>4.09095</td>\n",
       "      <td>1.246340</td>\n",
       "      <td>1.631640</td>\n",
       "      <td>-1</td>\n",
       "      <td>6.90202</td>\n",
       "      <td>-3.024390</td>\n",
       "      <td>3.751290</td>\n",
       "      <td>4.94041</td>\n",
       "      <td>4.818620</td>\n",
       "      <td>0.899132</td>\n",
       "      <td>2.249320</td>\n",
       "      <td>1</td>\n",
       "      <td>3.11929</td>\n",
       "    </tr>\n",
       "    <tr>\n",
       "      <th>3</th>\n",
       "      <td>GG</td>\n",
       "      <td>146511</td>\n",
       "      <td>25391068</td>\n",
       "      <td>6.59462</td>\n",
       "      <td>5.246510</td>\n",
       "      <td>2.16082</td>\n",
       "      <td>3.35900</td>\n",
       "      <td>5.67407</td>\n",
       "      <td>0.561945</td>\n",
       "      <td>0.390686</td>\n",
       "      <td>1</td>\n",
       "      <td>7.43461</td>\n",
       "      <td>-5.060690</td>\n",
       "      <td>4.408010</td>\n",
       "      <td>3.19704</td>\n",
       "      <td>6.711270</td>\n",
       "      <td>0.459977</td>\n",
       "      <td>2.425020</td>\n",
       "      <td>-1</td>\n",
       "      <td>10.51920</td>\n",
       "    </tr>\n",
       "    <tr>\n",
       "      <th>4</th>\n",
       "      <td>GG</td>\n",
       "      <td>146511</td>\n",
       "      <td>25489877</td>\n",
       "      <td>45.77350</td>\n",
       "      <td>8.864420</td>\n",
       "      <td>1.28931</td>\n",
       "      <td>-44.88830</td>\n",
       "      <td>8.95770</td>\n",
       "      <td>-2.314620</td>\n",
       "      <td>0.144435</td>\n",
       "      <td>-1</td>\n",
       "      <td>9.27485</td>\n",
       "      <td>-3.646960</td>\n",
       "      <td>-0.276874</td>\n",
       "      <td>8.52260</td>\n",
       "      <td>3.657450</td>\n",
       "      <td>1.582250</td>\n",
       "      <td>-3.065820</td>\n",
       "      <td>1</td>\n",
       "      <td>40.98300</td>\n",
       "    </tr>\n",
       "    <tr>\n",
       "      <th>5</th>\n",
       "      <td>GG</td>\n",
       "      <td>146511</td>\n",
       "      <td>25513022</td>\n",
       "      <td>43.77770</td>\n",
       "      <td>8.033680</td>\n",
       "      <td>7.92245</td>\n",
       "      <td>-42.29860</td>\n",
       "      <td>11.28300</td>\n",
       "      <td>-2.031940</td>\n",
       "      <td>0.778427</td>\n",
       "      <td>-1</td>\n",
       "      <td>14.71820</td>\n",
       "      <td>-2.302710</td>\n",
       "      <td>-3.143850</td>\n",
       "      <td>-14.19250</td>\n",
       "      <td>3.896950</td>\n",
       "      <td>-2.004000</td>\n",
       "      <td>-2.202970</td>\n",
       "      <td>1</td>\n",
       "      <td>13.22290</td>\n",
       "    </tr>\n",
       "    <tr>\n",
       "      <th>6</th>\n",
       "      <td>GT</td>\n",
       "      <td>146511</td>\n",
       "      <td>25580613</td>\n",
       "      <td>42.13530</td>\n",
       "      <td>-19.632300</td>\n",
       "      <td>3.17911</td>\n",
       "      <td>37.14610</td>\n",
       "      <td>19.88810</td>\n",
       "      <td>1.382880</td>\n",
       "      <td>2.981050</td>\n",
       "      <td>-1</td>\n",
       "      <td>5.11403</td>\n",
       "      <td>-1.997950</td>\n",
       "      <td>2.303030</td>\n",
       "      <td>4.10443</td>\n",
       "      <td>3.048890</td>\n",
       "      <td>1.106310</td>\n",
       "      <td>2.285380</td>\n",
       "      <td>-1</td>\n",
       "      <td>5.74149</td>\n",
       "    </tr>\n",
       "    <tr>\n",
       "      <th>7</th>\n",
       "      <td>GT</td>\n",
       "      <td>146511</td>\n",
       "      <td>25609306</td>\n",
       "      <td>29.31160</td>\n",
       "      <td>-9.156520</td>\n",
       "      <td>-4.57240</td>\n",
       "      <td>-27.46650</td>\n",
       "      <td>10.23470</td>\n",
       "      <td>-1.713360</td>\n",
       "      <td>-2.678460</td>\n",
       "      <td>1</td>\n",
       "      <td>3.49637</td>\n",
       "      <td>-0.144734</td>\n",
       "      <td>-0.848041</td>\n",
       "      <td>-3.38723</td>\n",
       "      <td>0.860303</td>\n",
       "      <td>-2.079380</td>\n",
       "      <td>-1.739840</td>\n",
       "      <td>1</td>\n",
       "      <td>2.91791</td>\n",
       "    </tr>\n",
       "    <tr>\n",
       "      <th>8</th>\n",
       "      <td>GG</td>\n",
       "      <td>146511</td>\n",
       "      <td>25635534</td>\n",
       "      <td>6.69535</td>\n",
       "      <td>2.849070</td>\n",
       "      <td>-2.59738</td>\n",
       "      <td>-5.47293</td>\n",
       "      <td>3.85533</td>\n",
       "      <td>-1.149310</td>\n",
       "      <td>-0.739220</td>\n",
       "      <td>-1</td>\n",
       "      <td>6.42028</td>\n",
       "      <td>0.471181</td>\n",
       "      <td>-6.307210</td>\n",
       "      <td>-1.09814</td>\n",
       "      <td>6.324790</td>\n",
       "      <td>-0.172764</td>\n",
       "      <td>-1.496230</td>\n",
       "      <td>1</td>\n",
       "      <td>6.20685</td>\n",
       "    </tr>\n",
       "    <tr>\n",
       "      <th>9</th>\n",
       "      <td>GT</td>\n",
       "      <td>146511</td>\n",
       "      <td>25697479</td>\n",
       "      <td>65.70340</td>\n",
       "      <td>3.400900</td>\n",
       "      <td>21.92260</td>\n",
       "      <td>-61.84460</td>\n",
       "      <td>22.18480</td>\n",
       "      <td>-1.749080</td>\n",
       "      <td>1.416890</td>\n",
       "      <td>1</td>\n",
       "      <td>10.55730</td>\n",
       "      <td>-0.442665</td>\n",
       "      <td>3.588990</td>\n",
       "      <td>-9.91809</td>\n",
       "      <td>3.616190</td>\n",
       "      <td>-1.733780</td>\n",
       "      <td>1.693520</td>\n",
       "      <td>1</td>\n",
       "      <td>2.49244</td>\n",
       "    </tr>\n",
       "  </tbody>\n",
       "</table>\n",
       "</div>"
      ],
      "text/plain": [
       "  Type     Run     Event        E1       px1        py1       pz1       pt1  \\\n",
       "0   GT  146511  25343052   7.33390   2.060420   5.88580  -3.85836   6.23602   \n",
       "1   GG  146511  25341481  18.46720   8.033950  -3.94072 -16.15410   8.94839   \n",
       "2   GG  146511  25390065   7.70222  -0.248771   4.08338   6.52511   4.09095   \n",
       "3   GG  146511  25391068   6.59462   5.246510   2.16082   3.35900   5.67407   \n",
       "4   GG  146511  25489877  45.77350   8.864420   1.28931 -44.88830   8.95770   \n",
       "5   GG  146511  25513022  43.77770   8.033680   7.92245 -42.29860  11.28300   \n",
       "6   GT  146511  25580613  42.13530 -19.632300   3.17911  37.14610  19.88810   \n",
       "7   GT  146511  25609306  29.31160  -9.156520  -4.57240 -27.46650  10.23470   \n",
       "8   GG  146511  25635534   6.69535   2.849070  -2.59738  -5.47293   3.85533   \n",
       "9   GT  146511  25697479  65.70340   3.400900  21.92260 -61.84460  22.18480   \n",
       "\n",
       "       eta1      phi1  Q1        E2       px2       py2       pz2       pt2  \\\n",
       "0 -0.584812  1.234060  -1   5.20755 -1.550160 -1.819760   4.62525  2.390500   \n",
       "1 -1.352990 -0.456026  -1  10.72950  6.294760 -2.524410  -8.31349  6.782080   \n",
       "2  1.246340  1.631640  -1   6.90202 -3.024390  3.751290   4.94041  4.818620   \n",
       "3  0.561945  0.390686   1   7.43461 -5.060690  4.408010   3.19704  6.711270   \n",
       "4 -2.314620  0.144435  -1   9.27485 -3.646960 -0.276874   8.52260  3.657450   \n",
       "5 -2.031940  0.778427  -1  14.71820 -2.302710 -3.143850 -14.19250  3.896950   \n",
       "6  1.382880  2.981050  -1   5.11403 -1.997950  2.303030   4.10443  3.048890   \n",
       "7 -1.713360 -2.678460   1   3.49637 -0.144734 -0.848041  -3.38723  0.860303   \n",
       "8 -1.149310 -0.739220  -1   6.42028  0.471181 -6.307210  -1.09814  6.324790   \n",
       "9 -1.749080  1.416890   1  10.55730 -0.442665  3.588990  -9.91809  3.616190   \n",
       "\n",
       "       eta2      phi2  Q2         M  \n",
       "0  1.414110 -2.276360   1  11.82820  \n",
       "1 -1.032390 -0.381397   1   2.58406  \n",
       "2  0.899132  2.249320   1   3.11929  \n",
       "3  0.459977  2.425020  -1  10.51920  \n",
       "4  1.582250 -3.065820   1  40.98300  \n",
       "5 -2.004000 -2.202970   1  13.22290  \n",
       "6  1.106310  2.285380  -1   5.74149  \n",
       "7 -2.079380 -1.739840   1   2.91791  \n",
       "8 -0.172764 -1.496230   1   6.20685  \n",
       "9 -1.733780  1.693520   1   2.49244  "
      ]
     },
     "execution_count": 5,
     "metadata": {},
     "output_type": "execute_result"
    }
   ],
   "source": [
    "# The .head(n) command displays the first n rows of the file.\n",
    "data.head(10)"
   ]
  },
  {
   "cell_type": "markdown",
   "metadata": {},
   "source": [
    "## Making a histogram\n",
    "CMS software calculated the invariant mass of a possible parent particle, based on the two particles' energies and momenta. It's in the last column, labeled \"M\". The code below makes a histogram of those mass values."
   ]
  },
  {
   "cell_type": "code",
   "execution_count": 9,
   "metadata": {
    "collapsed": false
   },
   "outputs": [
    {
     "data": {
      "text/plain": [
       "<matplotlib.text.Text at 0x7f7858c98f28>"
      ]
     },
     "execution_count": 9,
     "metadata": {},
     "output_type": "execute_result"
    },
    {
     "data": {
      "image/png": "[encoded data removed]",
      "text/plain": [
       "<matplotlib.figure.Figure at 0x7f7858bba390>"
      ]
     },
     "metadata": {},
     "output_type": "display_data"
    }
   ],
   "source": [
    "# adding a ; at the end of the next line will  \"suppress\" the text output of the histogram's frequency table\n",
    "plt.hist(data.M, bins=120, range=[0,120], log=True)\n",
    "plt.title(\"CMS Dimuon Mass Plot\")\n",
    "plt.xlabel(\"mass (GeV)\")\n",
    "plt.ylabel(\"number of events\")"
   ]
  },
  {
   "cell_type": "markdown",
   "metadata": {},
   "source": [
    "# Part Two\n",
    "Create a histogram to show the production of one of the following particles: [J/$\\Psi$](https://en.wikipedia.org/wiki/J/psi_meson), [Upsilon](https://en.wikipedia.org/wiki/Upsilon_meson) ($\\Upsilon$), or [Z](https://en.wikipedia.org/wiki/W_and_Z_bosons)."
   ]
  },
  {
   "cell_type": "code",
   "execution_count": 15,
   "metadata": {
    "collapsed": false
   },
   "outputs": [
    {
     "data": {
      "text/plain": [
       "<matplotlib.text.Text at 0x7f7857de4d30>"
      ]
     },
     "execution_count": 15,
     "metadata": {},
     "output_type": "execute_result"
    },
    {
     "data": {
      "image/png": "[encoded data removed]",
      "text/plain": [
       "<matplotlib.figure.Figure at 0x7f7857e0c278>"
      ]
     },
     "metadata": {},
     "output_type": "display_data"
    }
   ],
   "source": [
    "plt.hist(data.M, bins=120, range=[2.9,3.3], log=True)\n",
    "plt.title(\"CMS Dimuon Mass Plot\")\n",
    "plt.xlabel(\"mass (GeV)\")\n",
    "plt.ylabel(\"number of events\")"
   ]
  },
  {
   "cell_type": "markdown",
   "metadata": {},
   "source": [
    "# Part Three\n",
    "Try selecting a subset of the events to analyze. This is called \"applying cuts\" to your data. Below are a few commands you may find useful."
   ]
  },
  {
   "cell_type": "code",
   "execution_count": null,
   "metadata": {
    "collapsed": false
   },
   "outputs": [],
   "source": [
    "# create a new data set of only the events containing oppositely charges particles\n",
    "data2 = data[data.Q1 != data.Q2] # change != to == for same charge"
   ]
  },
  {
   "cell_type": "code",
   "execution_count": null,
   "metadata": {
    "collapsed": false
   },
   "outputs": [],
   "source": [
    "# create a new data set of only events in a certain mass range\n",
    "data3 = data[(data.M > 50) & (data.M < 80)] # this choses 50 to 80 GeV"
   ]
  },
  {
   "cell_type": "code",
   "execution_count": null,
   "metadata": {
    "collapsed": false
   },
   "outputs": [],
   "source": [
    "# make a scatterplot of two columns\n",
    "# plt.scatter(x_column, y_column, s=point_size, other parameters)\n",
    "plt.scatter(data.eta1, data.phi1, s=.05)"
   ]
  },
  {
   "cell_type": "code",
   "execution_count": null,
   "metadata": {
    "collapsed": false
   },
   "outputs": [],
   "source": [
    "# make your plots look like they're from xkcd.com\n",
    "plt.xkcd()\n",
    "\n",
    "# to make normal-looking plots again execute:\n",
    "# mpl.rcParams.update(inline_rc)\n",
    "\n",
    "# plt.hist can stack two histograms\n",
    "d1 = data[data.Q1 == data.Q2]\n",
    "d2 = data[data.Q1 != data.Q2]\n",
    "\n",
    "plt.hist([d1.M, d2.M], range=[2,5], stacked=True, label=[\"same Q\",\"opp Q\"], bins=20, log=True)\n",
    "plt.title(\"Cutting on net charge\")\n",
    "plt.xlabel(\"mass (GeV)\")\n",
    "plt.ylabel(\"log number of events\")\n",
    "plt.legend()"
   ]
  },
  {
   "cell_type": "markdown",
   "metadata": {
    "collapsed": true
   },
   "source": [
    "## Save Your Work\n",
    "\n",
    "Download this notebook and upload it to your GitHub. Need a refresher? [Find instructions here](https://drive.google.com/open?id=1GszC6t8K9gSKdR-cigtoxaHK8V1IL_K2PXo5L87Z9xo)."
   ]
  }
 ],
 "metadata": {
  "kernelspec": {
   "display_name": "Python 3",
   "language": "python",
   "name": "python3"
  },
  "language_info": {
   "codemirror_mode": {
    "name": "ipython",
    "version": 3
   },
   "file_extension": ".py",
   "mimetype": "text/x-python",
   "name": "python",
   "nbconvert_exporter": "python",
   "pygments_lexer": "ipython3",
   "version": "3.5.2"
  }
 },
 "nbformat": 4,
 "nbformat_minor": 0
}
